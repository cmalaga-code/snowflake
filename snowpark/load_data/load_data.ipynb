{
 "cells": [
  {
   "cell_type": "code",
   "execution_count": null,
   "id": "initial_id",
   "metadata": {
    "collapsed": true
   },
   "outputs": [],
   "source": [
    "from snowflake.snowpark import Session\n",
    "import snowflake.snowpark.types as types"
   ]
  },
  {
   "metadata": {},
   "cell_type": "code",
   "outputs": [],
   "execution_count": null,
   "source": [
    "session_params = {\n",
    "    \"account\": \"<account>\",\n",
    "    \"user\": \"<username>\",\n",
    "    \"password\": \"<password>\",\n",
    "    \"role\": \"<role-name>\",\n",
    "    \"warehouse\": \"<warehouse-name>\",\n",
    "    \"database\": \"<database-name>\",\n",
    "    \"schema\": \"<schema-name>\"\n",
    "}\n",
    "session = Session.builder.configs(session_params).create()"
   ],
   "id": "a7f477d72a280690"
  },
  {
   "metadata": {},
   "cell_type": "code",
   "outputs": [],
   "execution_count": null,
   "source": [
    "session.sql(\"\"\"\n",
    "\tCREATE WAREHOUSE IF NOT EXISTS\n",
    "\tCOMPUTE_WH WITH WAREHOUSE_SIZE='X-SMALL'\n",
    "\"\"\").collect()\n",
    "session.sql(\"\"\"\n",
    "\tCREATE DATABASE IF NOT EXISTS TESTING_DB\n",
    "\"\"\").collect()\n",
    "session.sql(\"\"\"\n",
    "\tCREATE SCHEMA IF NOT EXISTS TESTING_DB.MY_TEST_SCHEMA\n",
    "\"\"\").collect()\n",
    "session.sql(\"\"\"\n",
    "\tCREATE STAGE IF NOT EXISTS\n",
    "\tTESTING_DB.MY_TEST_SCHEMA.MY_FIRST_STAGE\n",
    "\"\"\").collect()"
   ],
   "id": "c9409154742cc07c"
  },
  {
   "metadata": {},
   "cell_type": "code",
   "outputs": [],
   "execution_count": null,
   "source": [
    "session.use_database(\"TESTING_DB\")\n",
    "session.use_schema(\"MY_TEST_SCHEMA\")"
   ],
   "id": "6c551357fabaa719"
  },
  {
   "metadata": {},
   "cell_type": "code",
   "outputs": [],
   "execution_count": null,
   "source": [
    "info = session.sql(\"\"\"\n",
    "\tselect current_warehouse(),\n",
    "\tcurrent_database(),\n",
    "\tcurrent_schema(),\n",
    "\tcurrent_user(),\n",
    "\tcurrent_role()\n",
    "\"\"\").collect()"
   ],
   "id": "9f153b40d0176db4"
  },
  {
   "metadata": {},
   "cell_type": "code",
   "outputs": [],
   "execution_count": null,
   "source": [
    "session.file.put('<dir>/file1.csv', 'MY_FIRST_STAGE')\n",
    "session.file.put('<dir>/file2.txt', 'MY_FIRST_STAGE')\n",
    "session.file.put('<dir>/file3.parquet', 'MY_FIRST_STAGE')"
   ],
   "id": "588c63952da9655c"
  },
  {
   "metadata": {},
   "cell_type": "code",
   "outputs": [],
   "execution_count": null,
   "source": [
    "file1_schema = types.StructType(\n",
    "    [\n",
    "        types.StructField(\"ID\", types.IntegerType()),\n",
    "        types.StructField(\"EXAMPLE_COL_1\", types.IntegerType()),\n",
    "        types.StructField(\"EXAMPLE_COL_2\", types.StringType()),\n",
    "        types.StructField(\"EXAMPLE_COL_3\", types.StringType()),\n",
    "        types.StructField(\"EXAMPLE_COL_4\", types.IntegerType()),\n",
    "        types.StructField(\"EXAMPLE_COL_5\", types.IntegerType()),\n",
    "        types.StructField(\"EXAMPLE_COL_6\", types.IntegerType()),\n",
    "        types.StructField(\"EXAMPLE_COL_7\", types.DateType()),\n",
    "        types.StructField(\"EXAMPLE_COL_8\", types.DateType()),\n",
    "        types.StructField(\"EXAMPLE_COL_9\", types.DateType())\n",
    "    ]\n",
    ")\n",
    "\n",
    "file2_schema = types.StructType(\n",
    "    [\n",
    "        types.StructField(\"ID\", types.IntegerType()),\n",
    "        types.StructField(\"EXAMPLE_COL_1\", types.IntegerType()),\n",
    "        types.StructField(\"EXAMPLE_COL_2\", types.StringType()),\n",
    "        types.StructField(\"EXAMPLE_COL_3\", types.StringType()),\n",
    "        types.StructField(\"EXAMPLE_COL_4\", types.IntegerType()),\n",
    "        types.StructField(\"EXAMPLE_COL_5\", types.IntegerType()),\n",
    "        types.StructField(\"EXAMPLE_COL_6\", types.IntegerType()),\n",
    "        types.StructField(\"EXAMPLE_COL_7\", types.DateType()),\n",
    "        types.StructField(\"EXAMPLE_COL_8\", types.DateType()),\n",
    "        types.StructField(\"EXAMPLE_COL_9\", types.DateType())\n",
    "    ]\n",
    ")"
   ],
   "id": "73e5774c8bde9516"
  },
  {
   "metadata": {},
   "cell_type": "code",
   "outputs": [],
   "execution_count": null,
   "source": [
    "session.sql(\"TRUNCATE TABLE IF EXISTS FILE1_EXAMPLE_TABLE\").collect()\n",
    "session.sql(\"TRUNCATE TABLE IF EXISTS FILE2_EXAMPLE_TABLE\").collect()\n",
    "session.sql(\"TRUNCATE TABLE IF EXISTS FILE3_EXAMPLE_TABLE\").collect()"
   ],
   "id": "12591a9e120d1d37"
  },
  {
   "metadata": {},
   "cell_type": "code",
   "outputs": [],
   "execution_count": null,
   "source": [
    "file1 = session.read \\\n",
    "    .option(\"FIELD_DELIMITER\", ',') \\\n",
    "    .option(\"SKIP_HEADER\", 1) \\\n",
    "    .option(\"ON_ERROR\", \"CONTINUE\") \\\n",
    "    .schema(file1_schema).csv(\"@MY_FIRST_STAGE/file1.csv.gz\") \\\n",
    "    .copy_into_table(\"FILE1_EXAMPLE_TABLE\")\n",
    "\n",
    "\n",
    "file2 = session.read \\\n",
    "    .option(\"FIELD_DELIMITER\", '|') \\\n",
    "    .option(\"SKIP_HEADER\", 1) \\\n",
    "    .option(\"ON_ERROR\", \"CONTINUE\") \\\n",
    "    .schema(file2_schema).csv(\"@MY_FIRST_STAGE/file2.txt.gz\") \\\n",
    "    .copy_into_table(\"FILE2_EXAMPLE_TABLE\")\n",
    "\n",
    "file3 = session.read.parquet(\"@MY_FIRST_STAGE/file3.parquet\")\n",
    "file3.copy_into_table(\"FILE3_EXAMPLE_TABLE\")"
   ],
   "id": "87fd988b68e89c49"
  },
  {
   "metadata": {},
   "cell_type": "code",
   "outputs": [],
   "execution_count": null,
   "source": [
    "session.table(\"FILE1_EXAMPLE_TABLE\")\n",
    "session.table(\"FILE2_EXAMPLE_TABLE\")\n",
    "session.table(\"FILE3_EXAMPLE_TABLE\")"
   ],
   "id": "455d536336d673b0"
  }
 ],
 "metadata": {
  "kernelspec": {
   "display_name": "Python 3",
   "language": "python",
   "name": "python3"
  },
  "language_info": {
   "codemirror_mode": {
    "name": "ipython",
    "version": 2
   },
   "file_extension": ".py",
   "mimetype": "text/x-python",
   "name": "python",
   "nbconvert_exporter": "python",
   "pygments_lexer": "ipython2",
   "version": "2.7.6"
  }
 },
 "nbformat": 4,
 "nbformat_minor": 5
}
